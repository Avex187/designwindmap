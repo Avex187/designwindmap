{
 "cells": [
  {
   "cell_type": "markdown",
   "metadata": {},
   "source": [
    "## Undergraduate Final Project - Wind Map Modeling for West Java Region, Indonesia\n",
    "### by Hafidz Rizky Firmansyah, Bandung Institute of Technology, Indonesia\n",
    "\n",
    "This code were used to calculate the values of West Java design wind map with various Risk Categories. The result of this study were published in https://link.springer.com/article/10.1007/s13753-022-00420-7\n",
    "\n",
    "To cite this study:\n",
    "\n",
    "**Abdillah, M.R., Sarli, P.W., Firmansyah, H.R. et al.** Extreme Wind Variability and Wind Map Development in Western Java, Indonesia. *Int J Disaster Risk Sci* 13, 465–480 (2022)."
   ]
  },
  {
   "cell_type": "code",
   "execution_count": null,
   "metadata": {},
   "outputs": [],
   "source": [
    "import scipy.io\n",
    "import numpy as np\n",
    "import pandas as pd\n",
    "import csv\n",
    "import re"
   ]
  },
  {
   "cell_type": "code",
   "execution_count": null,
   "metadata": {},
   "outputs": [],
   "source": [
    "datamatlab_windspeedori = scipy.io.loadmat('data\\calibrated_era5_annmaxima.mat')\n",
    "#datamatlab_windspeedori.items()"
   ]
  },
  {
   "cell_type": "markdown",
   "metadata": {},
   "source": [
    "From this Matlab file, the variable to be plotted is 'gustc' , **daily wind data calibrated from ERA5 and observation data**"
   ]
  },
  {
   "cell_type": "code",
   "execution_count": null,
   "metadata": {},
   "outputs": [],
   "source": [
    "data_wind_cal = datamatlab_windspeedori[\"anmax_cal\"]\n",
    "data_wind_raw = datamatlab_windspeedori[\"anmax_raw\"]"
   ]
  },
  {
   "cell_type": "code",
   "execution_count": null,
   "metadata": {},
   "outputs": [],
   "source": [
    "data_wind_raw.shape"
   ]
  },
  {
   "cell_type": "markdown",
   "metadata": {},
   "source": [
    "The following, is the algorithm to find the maximum annual value of 4131 *grid* and 42 years of data from the westmost coordinate (105 E) to the eastmost coordinate (109.0 E)\n",
    "\n",
    "After obtaining the maximum annual value for each of these coordinates, then the data is sorted from smallest to largest, then stored in the variable **df_rekap_annualmaxima_sorted**"
   ]
  },
  {
   "cell_type": "code",
   "execution_count": null,
   "metadata": {},
   "outputs": [],
   "source": [
    "ranking = {'rank' : np.arange(1,43,1)}\n",
    "yearindex = 1979\n",
    "df_rekap_annualmaxima = pd.DataFrame(data = ranking)\n",
    "#print(df_rekap_annualmaxima)\n",
    "res = 0.05\n",
    "longitude = 105.0\n",
    "for lon in range(81):\n",
    "    latitude = -8.0\n",
    "    for lat in range(51):\n",
    "        df_annualmaxima = pd.DataFrame(data = np.zeros(42))\n",
    "        for yr in range(42):\n",
    "            df_annualmaxima.iloc[yr,0] = data_wind_cal[lon,lat,yr]\n",
    "        df_rekap_annualmaxima[str(round(longitude,3))+'BT' + str(round(latitude,3)) + 'LS']=df_annualmaxima\n",
    "        latitude = latitude+res\n",
    "    longitude = longitude+res\n",
    "df_rekap_annualmaxima = df_rekap_annualmaxima.set_index('rank')\n",
    "pd.set_option(\"display.precision\", 3)\n",
    "#print(df_rekap_annualmaxima)\n",
    "\n",
    "df_rekap_annualmaxima_sorted = df_rekap_annualmaxima.apply(lambda x: x.sort_values().values)\n",
    "df_rekap_annualmaxima_sorted.shape"
   ]
  },
  {
   "cell_type": "code",
   "execution_count": null,
   "metadata": {},
   "outputs": [],
   "source": [
    "df_rekap_annualmaxima.iloc[:,2]"
   ]
  },
  {
   "cell_type": "code",
   "execution_count": null,
   "metadata": {},
   "outputs": [],
   "source": [
    "def get_latlon(s):\n",
    "    lonlat = re.findall('[0-9]+\\.[0-9]+',s)\n",
    "    return float(lonlat[0]),-float(lonlat[1])"
   ]
  },
  {
   "cell_type": "markdown",
   "metadata": {},
   "source": [
    "## Graphical Method\n",
    "This graphical method uses the usual *plotting* with the *polyfit* feature of NumPy to get the $\\mu$ and $\\sigma$ parameters to calculate the design wind speed based on the return period.\n",
    "\n",
    "**This graphical method is used as a function to be applied to all points of interest**"
   ]
  },
  {
   "cell_type": "code",
   "execution_count": null,
   "metadata": {},
   "outputs": [],
   "source": [
    "def hitungrpgrafis(windspeedmaxima):\n",
    "    data = {'data' : np.zeros(42)}\n",
    "    df_perhitungan = pd.DataFrame(data = data)\n",
    "    df_perhitungan['rank'] = np.arange(1,len(df_perhitungan)+1)\n",
    "    df_perhitungan['gringorten'] = (df_perhitungan['rank']-0.44)/(len(df_perhitungan)+0.12)\n",
    "    df_perhitungan['y'] = -np.log(-np.log(df_perhitungan['gringorten']))\n",
    "    m,b = np.polyfit(df_perhitungan['y'],windspeedmaxima,1)\n",
    "    return m,b"
   ]
  },
  {
   "cell_type": "markdown",
   "metadata": {},
   "source": [
    "## *Methods of Moments*\n",
    "In the *Method of Moments* (MOM) method, the location and scale parameters $\\mu$ and $\\sigma$ can be approximated by the formula:\n",
    "\n",
    "$$\\hat{\\sigma} = \\frac{s\\sqrt{6}}{\\pi}$$\n",
    "$$\\hat{\\mu} = \\bar x - \\gamma\\hat{\\sigma}$$\n",
    "\n",
    "Where $\\bar{x}$ and $s$ are the average and standard deviation of the maximum annual wind data\n",
    "\n",
    "**This MoM method is used as a function to be applied to all points of interest**"
   ]
  },
  {
   "cell_type": "code",
   "execution_count": null,
   "metadata": {},
   "outputs": [],
   "source": [
    "def hitungrpmom(windspeedmaxima):\n",
    "    betamom = np.std(windspeedmaxima)*(6**0.5)/np.pi\n",
    "    alphamom = np.mean(windspeedmaxima)-0.577216*betamom\n",
    "    return betamom,alphamom"
   ]
  },
  {
   "cell_type": "markdown",
   "metadata": {},
   "source": [
    "## *Methods of L-Moments* (LMOM)\n",
    "\n",
    "The estimators of the value of $\\beta$ and $\\alpha$ in the L-Moment method are:\n",
    "$$\\hat{\\sigma} = \\frac{L_2}{ln(2)}$$\n",
    "$$\\hat{\\mu} = b_0 - \\gamma\\hat{\\sigma}$$\n",
    "\n",
    "Where :\n",
    "$$L_2 = 2b_1 - b_0 $$\n",
    "$$b_1 = \\frac{1}{n} \\sum_{i=1}^{n} \\frac{(i-1)}{(n-1)}x_{i:n}$$\n",
    "$$b_0 = \\frac{1}{n} \\sum_{i=1}^{n} x_{i:n}$$\n",
    "\n",
    "While the value of $\\gamma$ is Euler's constant taken at 0.577216 and n is the number of samples, namely the number of years of calibrated observation data.\n",
    "\n",
    "**This LMoM method is used as a function to be applied to all points of interest**"
   ]
  },
  {
   "cell_type": "code",
   "execution_count": null,
   "metadata": {},
   "outputs": [],
   "source": [
    "from numpy import log as ln\n",
    "def hitungrplmom(windspeedmaxima):\n",
    "    n = len(windspeedmaxima)\n",
    "    data = {'data' : np.zeros(42)}\n",
    "    data['rank'] = np.arange(1,len(windspeedmaxima)+1)\n",
    "    data['b1count'] = (data['rank']-1)/(n-1)*windspeedmaxima\n",
    "    b1 = np.sum(data['b1count'])/n\n",
    "    b0 = np.sum(windspeedmaxima)/n\n",
    "    L2 = 2*b1-b0\n",
    "    betalmom = L2/ln(2)\n",
    "    alphalmom = b0-0.577216*betalmom\n",
    "    return betalmom,alphalmom"
   ]
  },
  {
   "cell_type": "markdown",
   "metadata": {},
   "source": [
    "## *Maximum Likelihood Estimation* (MLE) Method\n",
    "\n",
    "The MLE method is a technique to find the most probable value of the $\\alpha$ and $\\beta$ parameter values from the sample. This method adopts parameter values by maximizing the likelihood function with the formula:\n",
    "\n",
    "$$L(\\alpha,\\beta)=\\prod_{i=1}^{n} f(\\alpha,\\beta,x_i)$$\n",
    "\n",
    "Where $f$ has a PDF probability function of :\n",
    "$$f(x) = \\frac{1}{\\beta} e^{-e^{\\frac{-(x_i-\\alpha)}{\\beta}}}e^{\\frac{-(x_i-\\alpha)}{\\beta}} ...(1) $$\n",
    "\n",
    "With constraints :\n",
    "    $$-\\infty < x < \\infty $$\n",
    "    $$-\\infty < \\alpha < \\infty$$\n",
    "    $$ \\beta > 0$$\n",
    "By taking the derivative of equation (1), we get the $\\alpha$ and $\\beta$ value estimators using the MLE method :\n",
    "\n",
    "$$\\Large \\hat{\\alpha} = -\\hat{\\beta} \\ln{[\\frac{1}{n} \\sum_{i=1}^{n} e^{\\frac{-x_i}{\\hat{\\beta}}}]}$$\n",
    "$$\\Large \\hat{\\beta} = \\bar{x}-\\frac{\\sum_{i=1}^{n} x_i e^{\\frac{x_i}{\\hat{\\beta}}}}{\\sum_{i=1}^{n} e^{\\frac{x_i}{\\hat{\\beta}}}} $$\n",
    "\n",
    "Where the value of $\\hat{\\beta}$ is searched by iterating the value of $\\hat{\\beta}$ until it reaches the point where $\\hat{\\beta_{i+1}} \\approx \\hat{\\beta_{i}} $\n",
    "\n",
    "**This MLE method is used as a function to be applied to all points of interest**"
   ]
  },
  {
   "cell_type": "code",
   "execution_count": null,
   "metadata": {},
   "outputs": [],
   "source": [
    "# import time\n",
    "# start_time = time.process_time()\n",
    "def hitungrpmle(windspeedmaxima):\n",
    "    n = len(windspeedmaxima)\n",
    "    #Estimasi Parameter\n",
    "    betamle = 1.39\n",
    "    beta_mle_new = 1.4\n",
    "    data = {'data' : np.zeros(41)}\n",
    "    count = 1\n",
    "    diverge = False\n",
    "    #Iterasi nilai beta\n",
    "    while (np.abs(betamle-beta_mle_new) > 0.001) & (count < 100):\n",
    "        betamle = beta_mle_new\n",
    "        data['x'] = windspeedmaxima*np.exp(-windspeedmaxima/betamle)\n",
    "        data['y'] = np.exp(-windspeedmaxima/betamle)\n",
    "        beta_mle_new = np.mean(windspeedmaxima)-(np.sum(data['x'])/np.sum(data['y']))\n",
    "        avgbeta = (betamle+beta_mle_new)/2\n",
    "        #print(beta_mle_new)\n",
    "        count += 1\n",
    "    if (count == 100):\n",
    "        betamle_true = avgbeta\n",
    "        diverge = True\n",
    "    else:\n",
    "        betamle_true = beta_mle_new\n",
    "    #Selesai iterasi nilai beta, mencari nilai alpha\n",
    "    alphamle = -betamle_true*ln(1/n*np.sum(data['y']))\n",
    "    return betamle_true,alphamle\n",
    "# print(time.process_time() - start_time, \"seconds\")"
   ]
  },
  {
   "cell_type": "markdown",
   "metadata": {},
   "source": [
    "## The following is a function for testing plotting beta coefficient for MLE method during the iteration process"
   ]
  },
  {
   "cell_type": "code",
   "execution_count": null,
   "metadata": {},
   "outputs": [],
   "source": [
    "import matplotlib.pyplot as plt\n",
    "def plotrpmle(windspeedmaxima,judul):\n",
    "    rekapbeta = pd.DataFrame(columns = ['iterasi','beta','betanew'],\n",
    "                                index = np.arange(100))\n",
    "    n = len(windspeedmaxima)\n",
    "    #Estimasi Parameter\n",
    "    betamle = 1.39\n",
    "    beta_mle_new = 1.4\n",
    "    rekapbeta.at[0,'beta'] = betamle\n",
    "    rekapbeta.at[0,'betanew'] = beta_mle_new\n",
    "    rekapbeta.at[:,'iterasi'] = np.arange(100)\n",
    "    #rekapbeta.head()\n",
    "    data = {'data' : np.zeros(41)}\n",
    "    count = 1\n",
    "    #Iterasi nilai beta\n",
    "    while (np.abs(betamle-beta_mle_new) > 0.001) & (count < 100):\n",
    "        betamle = beta_mle_new\n",
    "        rekapbeta.at[count,'beta'] = betamle\n",
    "        data['x'] = windspeedmaxima*np.exp(-windspeedmaxima/betamle)\n",
    "        data['y'] = np.exp(-windspeedmaxima/betamle)\n",
    "        beta_mle_new = np.mean(windspeedmaxima)-(np.sum(data['x'])/np.sum(data['y']))\n",
    "        rekapbeta.at[count,'betanew'] = beta_mle_new\n",
    "        avgbeta = (betamle+beta_mle_new)/2\n",
    "        count += 1\n",
    "    if (count == 100):\n",
    "        betamle_true = avgbeta\n",
    "    else:\n",
    "        betamle_true = beta_mle_new\n",
    "    #Selesai iterasi nilai beta, mencari nilai alpha\n",
    "    alphamle = -betamle_true*ln(1/n*np.sum(data['y']))\n",
    "\n",
    "    rekapbeta = rekapbeta.dropna()\n",
    "\n",
    "    #Plotting\n",
    "    plt.figure(figsize=(15,10))\n",
    "    plt.plot(rekapbeta['iterasi'],rekapbeta['beta'],label = 'beta',marker = 'o')\n",
    "    plt.plot(rekapbeta['iterasi'],rekapbeta['betanew'],label = 'beta new',marker = 'D')\n",
    "\n",
    "    plt.title('Konvergensi nilai beta pada metode MLE di '+judul,\n",
    "             fontsize = 15)\n",
    "    plt.xlabel('Iterasi',fontsize = 14)\n",
    "    plt.ylabel('Value',fontsize = 14)\n",
    "    plt.legend(fontsize='large')\n",
    "    plt.show()"
   ]
  },
  {
   "cell_type": "markdown",
   "metadata": {},
   "source": [
    "**Beta value convergence at location 108.0E-7.7S (Location in Pamanukan)**"
   ]
  },
  {
   "cell_type": "code",
   "execution_count": null,
   "metadata": {},
   "outputs": [],
   "source": [
    "plotrpmle(df_rekap_annualmaxima_sorted.iloc[:,df_rekap_annualmaxima_sorted.columns.get_loc(\"108.0BT-7.7LS\")],'Tasikmalaya')"
   ]
  },
  {
   "cell_type": "markdown",
   "metadata": {},
   "source": [
    "**Beta value convergence at location 107.75E-6.5S (Location in Subang)**"
   ]
  },
  {
   "cell_type": "code",
   "execution_count": null,
   "metadata": {},
   "outputs": [],
   "source": [
    "plotrpmle(df_rekap_annualmaxima_sorted.iloc[:,df_rekap_annualmaxima_sorted.columns.get_loc(\"107.7BT-6.5LS\")],'Subang')"
   ]
  },
  {
   "cell_type": "markdown",
   "metadata": {},
   "source": [
    "**Beta value convergence at location 106.7E-6.2S (Location in South Jakarta)**"
   ]
  },
  {
   "cell_type": "code",
   "execution_count": null,
   "metadata": {},
   "outputs": [],
   "source": [
    "plotrpmle(df_rekap_annualmaxima_sorted.iloc[:,df_rekap_annualmaxima_sorted.columns.get_loc(\"106.7BT-6.2LS\")],\n",
    "         'Jakarta Selatan')"
   ]
  },
  {
   "cell_type": "markdown",
   "metadata": {},
   "source": [
    "**Beta value convergence at location 108.75E-6.25S (Location in the Northern Sea of Cirebon)**"
   ]
  },
  {
   "cell_type": "code",
   "execution_count": null,
   "metadata": {},
   "outputs": [],
   "source": [
    "plotrpmle(df_rekap_annualmaxima_sorted.iloc[:,df_rekap_annualmaxima_sorted.columns.get_loc(\"108.7BT-6.2LS\")],\n",
    "         'Laut Utara Cirebon')"
   ]
  },
  {
   "cell_type": "markdown",
   "metadata": {},
   "source": [
    "## Gumbel Distribution Validation in Mekarsari with Anderson-Darling test"
   ]
  },
  {
   "cell_type": "code",
   "execution_count": null,
   "metadata": {},
   "outputs": [],
   "source": [
    "import scipy.stats\n",
    "import scipy as sp\n",
    "def testAD(df):\n",
    "    dftinjau = df.astype(np.float64)\n",
    "    dftinjau = dftinjau.to_list()\n",
    "    a,b,c = sp.stats.anderson(dftinjau,dist='gumbel_r')\n",
    "    stat_value = a\n",
    "    crit_value = b[2]\n",
    "    sig_value = c[2]\n",
    "    return stat_value,crit_value,sig_value"
   ]
  },
  {
   "cell_type": "code",
   "execution_count": null,
   "metadata": {},
   "outputs": [],
   "source": [
    "rekap = pd.DataFrame(data = np.zeros((7,2)),columns = ['AD value','critical value'],\n",
    "                    index = np.arange(7))\n",
    "rekap\n",
    "\n",
    "df = df_rekap_annualmaxima_sorted.iloc[:,df_rekap_annualmaxima_sorted.columns.get_loc(\"107.0BT-6.4LS\")]\n",
    "a,b,c = testAD(df)\n",
    "rekap.iloc[0,:] = [a,b]\n",
    "df = df_rekap_annualmaxima_sorted.iloc[:,df_rekap_annualmaxima_sorted.columns.get_loc(\"106.9BT-6.4LS\")]\n",
    "a,b,c = testAD(df)\n",
    "rekap.iloc[1,:] = [a,b]\n",
    "df = df_rekap_annualmaxima_sorted.iloc[:,df_rekap_annualmaxima_sorted.columns.get_loc(\"107.1BT-6.4LS\")]\n",
    "a,b,c = testAD(df)\n",
    "rekap.iloc[2,:] = [a,b]\n",
    "df = df_rekap_annualmaxima_sorted.iloc[:,df_rekap_annualmaxima_sorted.columns.get_loc(\"107.0BT-6.5LS\")]\n",
    "a,b,c = testAD(df)\n",
    "rekap.iloc[3,:] = [a,b]\n",
    "df = df_rekap_annualmaxima_sorted.iloc[:,df_rekap_annualmaxima_sorted.columns.get_loc(\"107.1BT-6.5LS\")]\n",
    "a,b,c = testAD(df)\n",
    "rekap.iloc[4,:] = [a,b]\n",
    "df = df_rekap_annualmaxima_sorted.iloc[:,df_rekap_annualmaxima_sorted.columns.get_loc(\"106.9BT-6.5LS\")]\n",
    "a,b,c = testAD(df)\n",
    "rekap.iloc[5,:] = [a,b]\n",
    "df = df_rekap_annualmaxima_sorted.iloc[:,df_rekap_annualmaxima_sorted.columns.get_loc(\"107.0BT-6.3LS\")]\n",
    "a,b,c = testAD(df)\n",
    "rekap.iloc[6,:] = [a,b]\n",
    "#rekap"
   ]
  },
  {
   "cell_type": "code",
   "execution_count": null,
   "metadata": {},
   "outputs": [],
   "source": [
    "import matplotlib.pyplot as plt\n",
    "x = range(7)\n",
    "y = np.array(rekap.iloc[:,0])\n",
    "z = np.array(rekap.iloc[:,1])\n",
    "labels = [\"107.0BT-6.4LS\",\"106.9BT-6.4LS\",\"107.1BT-6.4LS\",\"107.0BT-6.5LS\",\n",
    "         \"107.1BT-6.5LS\",\"106.9BT-6.5LS\",\"107.0BT-6.3LS\"]\n",
    "plt.figure(figsize=(15,5))\n",
    "plt.xticks(x, labels,rotation = 25)\n",
    "plt.scatter(x, y)\n",
    "plt.plot(x,z)\n",
    "plt.legend(['AD Value','Critical Limit Value'])\n",
    "plt.title('Anderson-Darling Test Results for Grids around AWS Mekarsari Station',\n",
    "          fontsize = 15)\n",
    "plt.fill_between(x,0, z,color = 'green',alpha = 0.2)\n",
    "plt.fill_between(x, z, 1,color='red', alpha = 0.2)\n",
    "plt.savefig('AD_Mekarsari.png')\n",
    "plt.show()"
   ]
  },
  {
   "cell_type": "markdown",
   "metadata": {},
   "source": [
    "## Gumbel Distribution Validation in Tasikmalaya with Anderson-Darling test"
   ]
  },
  {
   "cell_type": "code",
   "execution_count": null,
   "metadata": {},
   "outputs": [],
   "source": [
    "rekap2 = pd.DataFrame(data = np.zeros((7,2)),columns = ['AD value','critical value'],\n",
    "                    index = np.arange(7))\n",
    "rekap2\n",
    "\n",
    "df = df_rekap_annualmaxima_sorted.iloc[:,df_rekap_annualmaxima_sorted.columns.get_loc(\"108.0BT-7.3LS\")]\n",
    "a,b,c = testAD(df)\n",
    "rekap2.iloc[0,:] = [a,b]\n",
    "df = df_rekap_annualmaxima_sorted.iloc[:,df_rekap_annualmaxima_sorted.columns.get_loc(\"108.0BT-7.4LS\")]\n",
    "a,b,c = testAD(df)\n",
    "rekap2.iloc[1,:] = [a,b]\n",
    "df = df_rekap_annualmaxima_sorted.iloc[:,df_rekap_annualmaxima_sorted.columns.get_loc(\"108.1BT-7.3LS\")]\n",
    "a,b,c = testAD(df)\n",
    "rekap2.iloc[2,:] = [a,b]\n",
    "df = df_rekap_annualmaxima_sorted.iloc[:,df_rekap_annualmaxima_sorted.columns.get_loc(\"108.1BT-7.4LS\")]\n",
    "a,b,c = testAD(df)\n",
    "rekap2.iloc[3,:] = [a,b]\n",
    "df = df_rekap_annualmaxima_sorted.iloc[:,df_rekap_annualmaxima_sorted.columns.get_loc(\"108.1BT-7.5LS\")]\n",
    "a,b,c = testAD(df)\n",
    "rekap2.iloc[4,:] = [a,b]\n",
    "df = df_rekap_annualmaxima_sorted.iloc[:,df_rekap_annualmaxima_sorted.columns.get_loc(\"108.2BT-7.3LS\")]\n",
    "a,b,c = testAD(df)\n",
    "rekap2.iloc[5,:] = [a,b]\n",
    "df = df_rekap_annualmaxima_sorted.iloc[:,df_rekap_annualmaxima_sorted.columns.get_loc(\"108.2BT-7.4LS\")]\n",
    "a,b,c = testAD(df)\n",
    "rekap2.iloc[6,:] = [a,b]\n",
    "#rekap2"
   ]
  },
  {
   "cell_type": "code",
   "execution_count": null,
   "metadata": {},
   "outputs": [],
   "source": [
    "x = range(7)\n",
    "y = np.array(rekap2.iloc[:,0])\n",
    "z = np.array(rekap2.iloc[:,1])\n",
    "labels = [\"108.0BT-7.3LS\",\"108.0BT-7.4LS\",\"108.1BT-7.3LS\",\"108.1BT-7.4LS\",\n",
    "         \"108.1BT-7.5LS\",\"108.2BT-7.3LS\",\"108.2BT-7.4LS\"]\n",
    "plt.figure(figsize=(15,5))\n",
    "plt.xticks(x, labels,rotation = 25)\n",
    "plt.scatter(x, y)\n",
    "plt.plot(x,z)\n",
    "plt.legend(['AD Value','Critical Limit Value'])\n",
    "plt.title('Anderson-Darling Test Results for Grids around AWS Tasikmalaya Station',\n",
    "          fontsize = 15)\n",
    "plt.fill_between(x,0, z,color = 'green',alpha = 0.2)\n",
    "plt.fill_between(x, z, 1,color='red', alpha = 0.2)\n",
    "plt.savefig('AD_Tasikmalaya.png')\n",
    "plt.show()"
   ]
  },
  {
   "cell_type": "code",
   "execution_count": null,
   "metadata": {},
   "outputs": [],
   "source": [
    "import matplotlib.pyplot as plt\n",
    "\n",
    "df = df.to_frame()\n",
    "df['rank'] = np.arange(1,len(df)+1)\n",
    "df['gringorten'] = (df['rank']-0.44)/(len(df)+0.12)\n",
    "df['y'] = -np.log(-np.log(df['gringorten']))\n",
    "\n",
    "plt.figure(figsize=(15,5))\n",
    "plt.scatter(df['y'],df.iloc[:,0]*3.6,color = 'red',label = 'Observasi')\n",
    "m,b = np.polyfit(df['y'],df.iloc[:,0],1)\n",
    "plt.title('Kecepatan Angin Desain, Metode Grafis, Koordinat 108.0BT - 7.7LS',size = 15)\n",
    "plt.plot(df['y'],(m*df['y']+b)*3.6,label = 'Estimasi')\n",
    "plt.xlabel('Reduced Variate')\n",
    "plt.ylabel('Design Wind Speed (km/jam)')\n",
    "plt.legend(fontsize='x-large')\n",
    "plt.show()"
   ]
  },
  {
   "cell_type": "markdown",
   "metadata": {},
   "source": [
    "# **Creating $\\mu$ and $\\sigma$ Parameter Matrix**\n",
    "\n",
    "Below is an algorithm to calculate the value of $\\mu$ and $\\sigma$ which is calculated by various types of methods that have been created as a function above, all the values of $\\mu$ and $\\sigma$ that have been obtained, are stored in the **parameter variable **\n",
    "\n",
    "There is an exception to this looping function, where when the coordinates are $(108.75 -6.5)$, $(108.75 -6.25)$ and $(109.25 -6.75)$, some rows are initially discarded because the linear regression contains data anomalies that cause the *Maximum Likelihood Estimation* function to experience infinite looping. , and because this grid does not meet the Gumbel distribution, as explained in the proof above"
   ]
  },
  {
   "cell_type": "code",
   "execution_count": null,
   "metadata": {
    "scrolled": true
   },
   "outputs": [],
   "source": [
    "df_rekap_annualmaxima_sorted.iloc[:,2]"
   ]
  },
  {
   "cell_type": "code",
   "execution_count": null,
   "metadata": {},
   "outputs": [],
   "source": [
    "import time\n",
    "start_time = time.process_time()\n",
    "pd.set_option(\"display.precision\", 6)\n",
    "parameters = pd.DataFrame(columns = list(df_rekap_annualmaxima_sorted.columns),\n",
    "                          index = ['m','b','mmom','bmom','mlmom','blmom'])\n",
    "jmlkolom = len(df_rekap_annualmaxima_sorted.columns)\n",
    "#print(parameters)\n",
    "for i in range(jmlkolom):\n",
    "    ann_maxima_tinjau = df_rekap_annualmaxima_sorted.iloc[:,i]\n",
    "    b,m = hitungrpgrafis(ann_maxima_tinjau)\n",
    "    parameters.iloc[0,i] = b\n",
    "    parameters.iloc[1,i] = m\n",
    "    betamom,alphamom = hitungrpmom(ann_maxima_tinjau)\n",
    "    parameters.iloc[2,i] = betamom\n",
    "    parameters.iloc[3,i] = alphamom\n",
    "    betalmom,alphalmom = hitungrplmom(ann_maxima_tinjau)\n",
    "    parameters.iloc[4,i] = betalmom\n",
    "    parameters.iloc[5,i] = alphalmom\n",
    "#     betamle,alphamle = hitungrpmle(ann_maxima_tinjau)\n",
    "#     parameters.iloc[6,i] = betamle\n",
    "#     parameters.iloc[7,i] = alphamle\n",
    "    #print(parameters.iloc[:,i])\n",
    "print(time.process_time() - start_time, \"seconds\")\n",
    "parameters.to_csv(\n",
    "    r'path',\n",
    "    index = True, header = True)"
   ]
  },
  {
   "cell_type": "code",
   "execution_count": null,
   "metadata": {},
   "outputs": [],
   "source": [
    "parameters.head(6)"
   ]
  },
  {
   "cell_type": "code",
   "execution_count": null,
   "metadata": {},
   "outputs": [],
   "source": [
    "from sklearn.metrics import r2_score\n",
    "data = {'data' : a}\n",
    "df = pd.DataFrame(data = data)\n",
    "df['rank'] = np.arange(1,len(df)+1)\n",
    "df['gringorten'] = (df['rank']-0.44)/(len(df)+0.12)\n",
    "df['y'] = -np.log(-np.log(df['gringorten']))\n",
    "mg,bg = 1.5, 20\n",
    "df['predict'] = mg*df['y']+bg\n",
    "r2score = r2_score(df['data'],df['predict'])\n",
    "print(r2score)"
   ]
  },
  {
   "cell_type": "code",
   "execution_count": null,
   "metadata": {},
   "outputs": [],
   "source": [
    "import matplotlib.pyplot as plt\n",
    "plt.scatter(df['y'],df['data'])\n",
    "plt.scatter(df['y'],df['predict'])"
   ]
  },
  {
   "cell_type": "markdown",
   "metadata": {},
   "source": [
    "## Evaluation of the method with the smallest *error*"
   ]
  },
  {
   "cell_type": "code",
   "execution_count": null,
   "metadata": {},
   "outputs": [],
   "source": [
    "from sklearn.metrics import r2_score\n",
    "\n",
    "accuracy_score = pd.DataFrame(columns = list(df_rekap_annualmaxima_sorted.columns),\n",
    "                          index = ['grafis','mom','lmom','most_accurate_r2','mse_g','mse_m','mse_l','most_accurate_mse'])\n",
    "for i in range(81):\n",
    "    for j in range(51):\n",
    "        idx = i*51 + j\n",
    "        a = df_rekap_annualmaxima_sorted.iloc[:,idx]\n",
    "        data = {'data' : a}\n",
    "        df = pd.DataFrame(data = data)\n",
    "        df['rank'] = np.arange(1,len(df)+1)\n",
    "        df['gringorten'] = (df['rank']-0.44)/(len(df)+0.12)\n",
    "        df['y'] = -np.log(-np.log(df['gringorten']))\n",
    "        \n",
    "        mg,bg = parameters.iloc[0,idx], parameters.iloc[1,idx]\n",
    "        df['rmse_g'] = np.sqrt((df['data'] - (mg*df['y']+bg))**2)\n",
    "        df['grafis_val'] = mg*df['y']+bg\n",
    "        accuracy_score.iloc[0,idx] = r2_score(df['data'],df['grafis_val'])\n",
    "        accuracy_score.iloc[4,idx] = np.sum(df['rmse_g'])/np.sqrt(len(df))\n",
    "        \n",
    "        mm,bm = parameters.iloc[2,idx], parameters.iloc[3,idx]\n",
    "        df['rmse_m'] = np.sqrt((df['data'] - (mm*df['y']+bm))**2)\n",
    "        df['mom_val'] = mm*df['y']+bm\n",
    "        accuracy_score.iloc[1,idx] = r2_score(df['data'],df['mom_val'])\n",
    "        accuracy_score.iloc[5,idx] = np.sum(df['rmse_m'])/np.sqrt(len(df))\n",
    "\n",
    "        ml,bl = parameters.iloc[4,idx], parameters.iloc[5,idx]\n",
    "        df['rmse_l'] = np.sqrt((df['data'] - (ml*df['y']+bl))**2)\n",
    "        df['lmom_val'] = ml*df['y']+bl\n",
    "        accuracy_score.iloc[2,idx] = r2_score(df['data'],df['lmom_val'])\n",
    "        accuracy_score.iloc[6,idx] = np.sum(df['rmse_l'])/np.sqrt(len(df))\n",
    "        \n",
    "        if(accuracy_score.iloc[:,idx].max() == accuracy_score.iloc[0,idx]):\n",
    "            accuracy_score.iloc[3,idx] = 0\n",
    "        elif(accuracy_score.iloc[:,idx].max() == accuracy_score.iloc[1,idx]):\n",
    "            accuracy_score.iloc[3,idx] = 1\n",
    "        elif(accuracy_score.iloc[:,idx].max() == accuracy_score.iloc[2,idx]):\n",
    "            accuracy_score.iloc[3,idx] = 2\n",
    "\n",
    "        if(accuracy_score.iloc[4:7,idx].min() == accuracy_score.iloc[4,idx]):\n",
    "            accuracy_score.iloc[7,idx] = 0\n",
    "        elif(accuracy_score.iloc[4:7,idx].min() == accuracy_score.iloc[5,idx]):\n",
    "            accuracy_score.iloc[7,idx] = 1\n",
    "        elif(accuracy_score.iloc[4:7,idx].min() == accuracy_score.iloc[6,idx]):\n",
    "            accuracy_score.iloc[7,idx] = 2\n",
    "#print(accuracy_score.head(8))"
   ]
  },
  {
   "cell_type": "code",
   "execution_count": null,
   "metadata": {},
   "outputs": [],
   "source": [
    "acc_r2_matrix = pd.DataFrame(columns = np.arange(81),\n",
    "                          index = np.arange(51))\n",
    "acc_rmse_matrix = pd.DataFrame(columns = np.arange(81),\n",
    "                          index = np.arange(51))"
   ]
  },
  {
   "cell_type": "code",
   "execution_count": null,
   "metadata": {},
   "outputs": [],
   "source": [
    "pd.set_option(\"display.precision\", 5)\n",
    "for i in range(81):\n",
    "    for j in range(50,-1,-1):\n",
    "        acc_r2_matrix.iloc[j,i] = accuracy_score.iloc[3,(50-j)+i*51]\n",
    "        \n",
    "acc_r2_matrix.to_csv(\n",
    "    r'path',\n",
    "    index = True, header = True)"
   ]
  },
  {
   "cell_type": "code",
   "execution_count": null,
   "metadata": {},
   "outputs": [],
   "source": [
    "pd.set_option(\"display.precision\", 5)\n",
    "for i in range(81):\n",
    "    for j in range(50,-1,-1):\n",
    "        acc_rmse_matrix.iloc[j,i] = accuracy_score.iloc[7,(50-j)+i*51]\n",
    "        \n",
    "acc_rmse_matrix.to_csv(\n",
    "    r'path',\n",
    "    index = True, header = True)"
   ]
  },
  {
   "cell_type": "code",
   "execution_count": null,
   "metadata": {},
   "outputs": [],
   "source": [
    "parameters.columns.shape"
   ]
  },
  {
   "cell_type": "code",
   "execution_count": null,
   "metadata": {
    "scrolled": true
   },
   "outputs": [],
   "source": [
    "import matplotlib.pyplot as plt\n",
    "def plotparameter(df,row1,row2,numrow):\n",
    "    plt.figure(figsize=(15,6))\n",
    "    plt.scatter(np.arange(row1,row2),df.iloc[0,row1:row2],color = 'red',label = 'Metode Grafis',marker = 'D')\n",
    "    plt.scatter(np.arange(row1,row2),df.iloc[2,row1:row2],color = 'green',label = 'Metode MOM',marker = '.')\n",
    "    plt.scatter(np.arange(row1,row2),df.iloc[4,row1:row2],color = 'blue',label = 'Metode LMOM',marker = 'o')\n",
    "    plt.xlabel('Data')\n",
    "    plt.ylabel('m Parameter (Gradient)')\n",
    "    plt.title('Parameter gradien m di data ke '+str(row1)+'-'+str(row2),\n",
    "             fontsize = 15)\n",
    "    plt.legend(fontsize='large')\n",
    "    plt.show()\n",
    "for i in range(14):\n",
    "    plotparameter(parameters,i*100,i*100+100,100)"
   ]
  },
  {
   "cell_type": "code",
   "execution_count": null,
   "metadata": {
    "scrolled": true
   },
   "outputs": [],
   "source": [
    "def plotparameter2(df,row1,row2,numrow):\n",
    "    plt.figure(figsize=(15,7))\n",
    "    plt.scatter(np.arange(row1,row2),df.iloc[1,row1:row2],color = 'red',label = 'Metode Grafis',marker = 'D')\n",
    "    plt.scatter(np.arange(row1,row2),df.iloc[3,row1:row2],color = 'green',label = 'Metode MOM', marker = '^')\n",
    "    plt.scatter(np.arange(row1,row2),df.iloc[5,row1:row2],color = 'blue',label = 'Metode LMOM',marker = 'o')\n",
    "    plt.xlabel('Data')\n",
    "    plt.ylabel('b Parameter (Intercept)')\n",
    "    plt.legend(fontsize='large')\n",
    "    plt.title('Parameter intercept b di data ke '+str(row1)+'-'+str(row2),\n",
    "             fontsize = 15)\n",
    "    plt.show()\n",
    "for i in range(14):\n",
    "    plotparameter2(parameters,i*100,i*100+100,100)"
   ]
  },
  {
   "cell_type": "markdown",
   "metadata": {},
   "source": [
    "# Calculating Design Wind Speed with various Risk Categories\n",
    "Below, is the algorithm for calculating **design wind speed** for the various return periods under review, taking into account *risk* :\n",
    "- For buildings with Category I Risk, the wind with a return period for the building is 300 years\n",
    "- For buildings with Category II Risk, the wind with the return period for the building is 700 years\n",
    "- For buildings with Risk Category III, the wind with the return period for the building is 1700 years\n",
    "- For buildings with Category IV Risk, the wind with the return period for the building is 3000 years\n",
    "\n",
    "All of the *design wind speed* calculations presented are using the MLE *(Maximum Likelihood Estimation)* method because it gives the largest relative result compared to the other 3 methods, so it is considered more conservative\n",
    "\n",
    "All the calculated *design wind speed* are assembled in the **designspeed** matrix"
   ]
  },
  {
   "cell_type": "code",
   "execution_count": null,
   "metadata": {},
   "outputs": [],
   "source": [
    "import time\n",
    "start_time = time.process_time()\n",
    "pd.set_option(\"display.precision\", 3)\n",
    "returnperiod = [10,25,40,50,75,100,200,300,500,700,1700,3000]\n",
    "nperiodeulang = len(returnperiod)\n",
    "returnperiod_str = [str(i) for i in returnperiod]\n",
    "returnperiod_name = ['grafis','mom','lmom']\n",
    "returnperiod_index = ['metode '+str(i)+' '+str(x)+' tahun'\n",
    "                      for i in returnperiod_name\n",
    "                          for x in returnperiod\n",
    "]\n",
    "\n",
    "designspeed = pd.DataFrame(columns = list(df_rekap_annualmaxima_sorted.columns),\n",
    "                          index = [returnperiod_index])\n",
    "designspeed.insert(loc = 0,column = 'Periode Ulang', value = returnperiod*3)\n",
    "designspeed.insert(loc = 1,column = 'reduced variate',\n",
    "                   value = -np.log(-np.log((designspeed['Periode Ulang']-1)/(designspeed['Periode Ulang']))))\n",
    "for i in range(len(df_rekap_annualmaxima_sorted.columns)):\n",
    "    for j in range(nperiodeulang*3):\n",
    "        if j < nperiodeulang:\n",
    "            designspeed.iloc[j,i+2] = parameters.iloc[0,i]*designspeed.iloc[j,1]+parameters.iloc[1,i]\n",
    "        elif j < 2*nperiodeulang:\n",
    "            designspeed.iloc[j,i+2] = parameters.iloc[2,i]*designspeed.iloc[j,1]+parameters.iloc[3,i]\n",
    "        elif j < 3*nperiodeulang:\n",
    "            designspeed.iloc[j,i+2] = parameters.iloc[4,i]*designspeed.iloc[j,1]+parameters.iloc[5,i]\n",
    "#print(designspeed.head())\n",
    "designspeed.to_csv(\n",
    "    r'path',\n",
    "    index = True, header = True)\n",
    "print(time.process_time() - start_time, \"seconds\")"
   ]
  },
  {
   "cell_type": "code",
   "execution_count": null,
   "metadata": {
    "scrolled": true
   },
   "outputs": [],
   "source": [
    "designspeed.iloc[:,13]"
   ]
  },
  {
   "cell_type": "code",
   "execution_count": null,
   "metadata": {
    "scrolled": true
   },
   "outputs": [],
   "source": [
    "df_rekap_annualmaxima_sorted.iloc[:,11]"
   ]
  },
  {
   "cell_type": "code",
   "execution_count": null,
   "metadata": {},
   "outputs": [],
   "source": [
    "designspeed.shape"
   ]
  },
  {
   "cell_type": "markdown",
   "metadata": {},
   "source": [
    "Below is a matrix prepared to accommodate data from the **designspeed** matrix which is a combination of 4 Risk categories, into a separate matrix for each Risk category for each *grid*. Initially this matrix is initialized with 0 (no data)"
   ]
  },
  {
   "cell_type": "code",
   "execution_count": null,
   "metadata": {},
   "outputs": [],
   "source": [
    "#Defining Matriks untuk Plotting\n",
    "plottingRisk1 = pd.DataFrame(columns = np.arange(81),\n",
    "                          index = np.arange(51))\n",
    "plottingRisk2 = pd.DataFrame(columns = np.arange(81),\n",
    "                          index = np.arange(51))\n",
    "plottingRisk3 = pd.DataFrame(columns = np.arange(81),\n",
    "                          index = np.arange(51))\n",
    "plottingRisk4 = pd.DataFrame(columns = np.arange(81),\n",
    "                          index = np.arange(51))\n",
    "plottingRisk1.head()"
   ]
  },
  {
   "cell_type": "code",
   "execution_count": null,
   "metadata": {},
   "outputs": [],
   "source": [
    "designspeed"
   ]
  },
  {
   "cell_type": "code",
   "execution_count": null,
   "metadata": {},
   "outputs": [],
   "source": [
    "get_latlon('105.25BT-4.05LS')[0]"
   ]
  },
  {
   "cell_type": "code",
   "execution_count": null,
   "metadata": {
    "scrolled": true
   },
   "outputs": [],
   "source": [
    "#Defining Matriks untuk Plotting (2)\n",
    "def toGISplot(df,n):\n",
    "    plotRiskGIS = pd.DataFrame(columns = ['lat','lon','wspeed'],index=np.arange(len(df.columns)-2))\n",
    "    listlon = [get_latlon(i)[0] for i in df.columns.drop(labels = ['Periode Ulang','reduced variate'])]\n",
    "    listlat = [get_latlon(i)[1] for i in df.columns.drop(labels = ['Periode Ulang','reduced variate'])]\n",
    "    plotRiskGIS.iloc[:,0] = listlat\n",
    "    plotRiskGIS.iloc[:,1] = listlon\n",
    "    plotRiskGIS.iloc[:,2] = df.iloc[n,2:].values\n",
    "    return plotRiskGIS\n",
    "\n",
    "plotRisk1GIS = toGISplot(designspeed,-5)\n",
    "plotRisk2GIS = toGISplot(designspeed,-3)\n",
    "plotRisk3GIS = toGISplot(designspeed,-2)\n",
    "plotRisk4GIS = toGISplot(designspeed,-1)\n",
    "\n",
    "plotRisk1GIS.to_csv(\n",
    "    r'path',\n",
    "    index = True, header = True)\n",
    "plotRisk2GIS.to_csv(\n",
    "    r'path',\n",
    "    index = True, header = True)\n",
    "plotRisk3GIS.to_csv(\n",
    "    r'path',\n",
    "    index = True, header = True)\n",
    "plotRisk4GIS.to_csv(\n",
    "    r'path',\n",
    "    index = True, header = True)"
   ]
  },
  {
   "cell_type": "code",
   "execution_count": null,
   "metadata": {},
   "outputs": [],
   "source": [
    "acc_rmseGIS = pd.DataFrame(columns = ['lat','lon','code'],index=np.arange(len(designspeed.columns)-2))\n",
    "listlon = [get_latlon(i)[0] for i in designspeed.columns.drop(labels = ['Periode Ulang','reduced variate'])]\n",
    "listlat = [get_latlon(i)[1] for i in designspeed.columns.drop(labels = ['Periode Ulang','reduced variate'])]\n",
    "acc_rmseGIS.iloc[:,0] = listlat\n",
    "acc_rmseGIS.iloc[:,1] = listlon\n",
    "acc_rmseGIS.iloc[:,2] = accuracy_score.iloc[7,:].values\n",
    "acc_rmseGIS.to_csv(\n",
    "    r'path',\n",
    "    index = True, header = True)"
   ]
  },
  {
   "cell_type": "markdown",
   "metadata": {},
   "source": [
    "Next, we input the contents of the **designspeed** matrix into the *grid* matrix based on their respective Risk Categories to plot."
   ]
  },
  {
   "cell_type": "code",
   "execution_count": null,
   "metadata": {},
   "outputs": [],
   "source": [
    "#Membuat Matriks untuk Plotting \n",
    "pd.set_option(\"display.precision\", 5)\n",
    "for i in range(81):\n",
    "    for j in range(50,-1,-1):\n",
    "        plottingRisk1.iloc[j,i] = designspeed.iloc[-5,2+(50-j)+i*51]\n",
    "        plottingRisk2.iloc[j,i] = designspeed.iloc[-3,2+(50-j)+i*51]\n",
    "        plottingRisk3.iloc[j,i] = designspeed.iloc[-2,2+(50-j)+i*51]\n",
    "        plottingRisk4.iloc[j,i] = designspeed.iloc[-1,2+(50-j)+i*51]"
   ]
  },
  {
   "cell_type": "markdown",
   "metadata": {},
   "source": [
    "The following is an example of this plotting matrix for Risk category I, the location of the lower left is already the design wind speed for the southwest region of Java (Ujung Kulon). The upper left is already the design wind quantity (m/s) for the northwest region of Java (Serang, Tangerang, DKI Jakarta) etc."
   ]
  },
  {
   "cell_type": "code",
   "execution_count": null,
   "metadata": {
    "scrolled": true
   },
   "outputs": [],
   "source": [
    "pd.set_option(\"display.precision\", 3)\n",
    "plottingRisk4"
   ]
  },
  {
   "cell_type": "markdown",
   "metadata": {},
   "source": [
    "Exporting the data for this plots to MS.Excel"
   ]
  },
  {
   "cell_type": "code",
   "execution_count": null,
   "metadata": {},
   "outputs": [],
   "source": [
    "plottingRisk1.to_csv(\n",
    "    r'path',\n",
    "    index = True, header = True)\n",
    "plottingRisk2.to_csv(\n",
    "    r'path',\n",
    "    index = True, header = True)\n",
    "plottingRisk3.to_csv(\n",
    "    r'path',\n",
    "    index = True, header = True)\n",
    "plottingRisk4.to_csv(\n",
    "    r'path',\n",
    "    index = True, header = True)"
   ]
  },
  {
   "cell_type": "markdown",
   "metadata": {},
   "source": [
    "# Comparative Plotting with Various Design Standards and Evaluating Coordinates when Maximum and Minimum Extreme Values are Obtained"
   ]
  },
  {
   "cell_type": "code",
   "execution_count": null,
   "metadata": {},
   "outputs": [],
   "source": [
    "#Mencari lokasi data minimum dan maksimum\n",
    "columnmin = designspeed.columns.get_loc('109.0BT-6.5LS')\n",
    "columnmax = designspeed.columns.get_loc('106.4BT-6.9LS')\n",
    "datamin = designspeed.iloc[:,columnmin]\n",
    "datamax = designspeed.iloc[:,columnmax]"
   ]
  },
  {
   "cell_type": "code",
   "execution_count": null,
   "metadata": {},
   "outputs": [],
   "source": [
    "pd.set_option(\"display.precision\", 2)\n",
    "returnperiod = [10,25,40,50,75,100,200,300,500,700,1700,3000]\n",
    "jmlrp = len(returnperiod)\n",
    "\n",
    "rekap = pd.DataFrame(returnperiod,columns = ['Periode Ulang'])\n",
    "rekap['reduced variate']=-np.log(-np.log((rekap['Periode Ulang']-1)/(rekap['Periode Ulang'])))\n",
    "rekap['Grafis min'] = datamin[:jmlrp].values\n",
    "rekap['MOM min'] = datamin[jmlrp:2*jmlrp].values\n",
    "rekap['LMOM min'] = datamin[2*jmlrp:3*jmlrp].values\n",
    "\n",
    "rekap['Grafis max'] = datamax[:jmlrp].values\n",
    "rekap['MOM max'] = datamax[jmlrp:2*jmlrp].values\n",
    "rekap['LMOM max'] = datamax[2*jmlrp:3*jmlrp].values\n",
    "\n",
    "rekap['SNI 1725-2016,low'] = 25\n",
    "rekap['SNI 1725-2016,high'] = 35\n",
    "rekap['PPPURG 1987,low'] = 20\n",
    "rekap['PPPURG 1987,high'] = 25\n",
    "rekap['HB 212-2002'] = 70-56/(rekap['Periode Ulang'])**0.1\n",
    "rekap.head(12)"
   ]
  },
  {
   "cell_type": "code",
   "execution_count": null,
   "metadata": {},
   "outputs": [],
   "source": [
    "pd.to_numeric(rekap['LMOM min'])"
   ]
  },
  {
   "cell_type": "code",
   "execution_count": null,
   "metadata": {},
   "outputs": [],
   "source": [
    "#Import Package untuk Plotting Peta Angin\n",
    "%matplotlib inline\n",
    "import matplotlib as mpl\n",
    "import matplotlib.pyplot as plt\n",
    "from mpl_toolkits.axes_grid1.axes_divider import make_axes_locatable\n",
    "from mpl_toolkits.mplot3d import Axes3D"
   ]
  },
  {
   "cell_type": "code",
   "execution_count": null,
   "metadata": {},
   "outputs": [],
   "source": [
    "plt.rcParams[\"font.family\"] = \"sans-serif\""
   ]
  },
  {
   "cell_type": "code",
   "execution_count": null,
   "metadata": {},
   "outputs": [],
   "source": [
    "#Plotting\n",
    "plt.figure(figsize = (15,10))\n",
    "ax = plt.subplot(111)\n",
    "\n",
    "plt.plot(pd.to_numeric(rekap['Periode Ulang']),rekap['LMOM min'],color = 'white')\n",
    "\n",
    "plt.plot(pd.to_numeric(rekap['Periode Ulang']),rekap['LMOM max'],color = 'white')\n",
    "\n",
    "#plt.plot(pd.to_numeric(rekap['Periode Ulang']),rekap['PPPURG 1987'],label = 'PPPURG 1987',color = 'black')\n",
    "ax.plot(pd.to_numeric(rekap['Periode Ulang']),rekap['HB 212-2002'],'k--',label = 'HB 212-2002')\n",
    "ax.plot(pd.to_numeric(rekap['Periode Ulang']),rekap['SNI 1725-2016,low'],'k-.',label = 'SNI 1725-2016, Low')\n",
    "ax.plot(pd.to_numeric(rekap['Periode Ulang']),rekap['SNI 1725-2016,high'],'k-.',label = 'SNI 1725-2016, High')\n",
    "ax.plot(pd.to_numeric(rekap['Periode Ulang']),rekap['PPPURG 1987,low'],'k.-',label = 'PPPURG 1987, Low')\n",
    "ax.plot(pd.to_numeric(rekap['Periode Ulang']),rekap['PPPURG 1987,high'],'k.-',label = 'PPPURG 1987, High')\n",
    "\n",
    "ax.fill_between(pd.to_numeric(rekap['Periode Ulang']),pd.to_numeric(rekap['LMOM min']),pd.to_numeric(rekap['LMOM max']),alpha = 0.2)\n",
    "\n",
    "ax.text(1000, 28.6, 'Design Wind Speed, High',rotation = 7.,fontsize = 15)\n",
    "ax.text(1000, 25.8, 'Design Wind Speed, Low', rotation = 4.,fontsize = 15)\n",
    "ax.text(2100, 42.7, 'HB 212-2002', rotation = 5.,fontsize = 15)\n",
    "ax.text(2100, 25.5, 'SNI 1725-2016, Lower Bound', fontsize = 15)\n",
    "ax.text(2100, 35.5, 'SNI 1725-2016, Upper Bound', fontsize = 15)\n",
    "ax.text(2100, 23.9, 'PPPURG 1987, Upper Bound', fontsize = 15)\n",
    "ax.text(2100, 20.5, 'PPPURG 1987, Lower Bound', fontsize = 15)\n",
    "\n",
    "#plt.title('Design Wind Speed Overall Result',fontsize = 20)\n",
    "ax.xaxis.set_major_formatter(mpl.ticker.StrMethodFormatter('{x:,.0f}'))\n",
    "plt.xticks(fontsize= 12)\n",
    "plt.yticks(fontsize= 12)\n",
    "ax.set_xlabel('Return Period (year)',fontsize = 14)\n",
    "ax.set_ylabel('Design Wind Speed (m/s)',fontsize = 14)\n",
    "#ax.legend(loc='upper center', bbox_to_anchor=(0.5, 1.1), ncol=3, fancybox=True,fontsize = 14)\n",
    "#labelLines(plt.gca().get_lines(),zorder=2.5)\n",
    "plt.savefig('Calc vs Std.svg')\n",
    "plt.show()"
   ]
  },
  {
   "cell_type": "code",
   "execution_count": null,
   "metadata": {},
   "outputs": [],
   "source": [
    "plt.figure(figsize = (15,10))\n",
    "ax = plt.subplot(111)\n",
    "ax.plot(rekap['Periode Ulang'],rekap['Grafis min'],dashes=[10, 5, 20, 5],color = 'red',label = 'Graphics low')\n",
    "ax.plot(rekap['Periode Ulang'],rekap['MOM min'],'r-.',label = 'MOM low')\n",
    "ax.plot(rekap['Periode Ulang'],rekap['LMOM min'],'r--',label = 'LMOM low')\n",
    "\n",
    "ax.plot(rekap['Periode Ulang'],rekap['Grafis max'],dashes=[10, 5, 20, 5],color = 'blue',label = 'Graphics high')\n",
    "ax.plot(rekap['Periode Ulang'],rekap['MOM max'],'b-.',label = 'MOM high')\n",
    "ax.plot(rekap['Periode Ulang'],rekap['LMOM max'],'b--',label = 'LMOM high')\n",
    "\n",
    "# ax.text(1000, 24.5, 'Graphics low',rotation = 8.,fontsize = 13)\n",
    "# ax.text(1000, 25.1, 'MOM low',rotation = 8.,fontsize = 13)\n",
    "# ax.text(1000, 25.6, 'LMOM low',rotation = 9.,fontsize = 13)\n",
    "# ax.text(1000, 27.9, 'Graphics high',rotation = 12,fontsize = 13)\n",
    "# ax.text(1000, 27.2, 'MOM high',rotation = 11.,fontsize = 13)\n",
    "# ax.text(1000, 28.7, 'LMOM high',rotation = 11.,fontsize = 13)\n",
    "\n",
    "#plt.title('Komparasi Perhitungan Design Wind Speed (Calibrated Data) (Koordinat Max vs Min)',fontsize = 20)\n",
    "ax.xaxis.set_major_formatter(mpl.ticker.StrMethodFormatter('{x:,.0f}'))\n",
    "ax.set_xlabel('Return Period (year)', fontsize = 14)\n",
    "ax.set_ylabel('Design Wind Speed (m/s)', fontsize = 14)\n",
    "plt.xticks(fontsize=12) ; plt.yticks(fontsize=12)\n",
    "ax.legend(loc='lower right', bbox_to_anchor=(1, 0),ncol=2, fancybox=True,fontsize = 16)\n",
    "plt.savefig('GEV Methods.svg')\n",
    "plt.show()"
   ]
  },
  {
   "cell_type": "markdown",
   "metadata": {},
   "source": [
    "# Numerical Approximation for *Best Fit* Equation from existing data\n",
    "\n",
    "It is known that from HB-212 the formula to find the design wind speed based on the return period is:\n",
    "\n",
    "$$V_{design}=70-56R^{-0.1}$$\n",
    "\n",
    "We will solve the equations of these various methods similar to the HB-212 equation with the form:\n",
    "\n",
    "$$V_{design} = A - BR^{-C}$$"
   ]
  },
  {
   "cell_type": "code",
   "execution_count": null,
   "metadata": {},
   "outputs": [],
   "source": [
    "from scipy.optimize import curve_fit"
   ]
  },
  {
   "cell_type": "code",
   "execution_count": null,
   "metadata": {},
   "outputs": [],
   "source": [
    "def func(x,a,b,c):\n",
    "    return a-b*(x**(-c))"
   ]
  },
  {
   "cell_type": "code",
   "execution_count": null,
   "metadata": {},
   "outputs": [],
   "source": [
    "def getfunc(xdata,ydata):\n",
    "    answer = curve_fit(func,xdata,ydata,bounds = (0,[70,70,1]))\n",
    "    [a,b,c] = answer[0]\n",
    "    return a,b,c"
   ]
  },
  {
   "cell_type": "code",
   "execution_count": null,
   "metadata": {},
   "outputs": [],
   "source": [
    "for i in range(2,8):\n",
    "    x,y,z = getfunc(np.array(rekap.iloc[:,0].values),np.array(rekap.iloc[:,i].values))\n",
    "    print('%.2f %.4f %.4f'%(x,y,z))"
   ]
  }
 ],
 "metadata": {
  "kernelspec": {
   "display_name": "Python 3 (ipykernel)",
   "language": "python",
   "name": "python3"
  },
  "language_info": {
   "codemirror_mode": {
    "name": "ipython",
    "version": 3
   },
   "file_extension": ".py",
   "mimetype": "text/x-python",
   "name": "python",
   "nbconvert_exporter": "python",
   "pygments_lexer": "ipython3",
   "version": "3.9.7"
  }
 },
 "nbformat": 4,
 "nbformat_minor": 4
}
