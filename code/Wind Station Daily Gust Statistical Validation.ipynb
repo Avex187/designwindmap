{
 "cells": [
  {
   "cell_type": "markdown",
   "metadata": {},
   "source": [
    "## Check the suitability of Gumbel distribution to daily wind data"
   ]
  },
  {
   "cell_type": "code",
   "execution_count": null,
   "metadata": {},
   "outputs": [],
   "source": [
    "import numpy as np\n",
    "import pandas as pd\n",
    "import scipy as sp"
   ]
  },
  {
   "cell_type": "code",
   "execution_count": null,
   "metadata": {},
   "outputs": [],
   "source": [
    "import folium"
   ]
  },
  {
   "cell_type": "markdown",
   "metadata": {},
   "source": [
    "### First, a matrix is created to store the results of the Anderson-Darling analysis recap, the matrix is called 'rekap'"
   ]
  },
  {
   "cell_type": "code",
   "execution_count": null,
   "metadata": {},
   "outputs": [],
   "source": [
    "rekap = pd.DataFrame(data = np.zeros((5,2)),columns = ['AD value','critical value'],\n",
    "                    index = ['1 bulan','2 bulan','3 bulan', '4 bulan','6 bulan'])\n",
    "rekap"
   ]
  },
  {
   "cell_type": "markdown",
   "metadata": {},
   "source": [
    "# Location of Evaluation Station 1\n",
    "\n",
    "The station that was evaluated first was the AWS Mekarsari Wind Station in Depok, with the exact location as follows"
   ]
  },
  {
   "cell_type": "code",
   "execution_count": null,
   "metadata": {},
   "outputs": [],
   "source": [
    "peta = folium.Map(location=[-6.41882,107.5],zoom_start=8.4,tiles = 'Stamen Terrain')\n",
    "folium.Marker([-6.41882,106.9832],\n",
    "              popup='<strong>Stasiun AWS Mekarsari</strong>',\n",
    "             tooltip = 'Stasiun AWS Mekarsari').add_to(peta)\n",
    "peta"
   ]
  },
  {
   "cell_type": "code",
   "execution_count": null,
   "metadata": {},
   "outputs": [],
   "source": [
    "def marks(map,coord):\n",
    "    folium.CircleMarker(coord,radius=0.3,color = 'red').add_to(map)\n",
    "\n",
    "marks(peta,[-6.4,107])\n",
    "marks(peta,[-6.4,106.9])\n",
    "marks(peta,[-6.4,107.1])\n",
    "marks(peta,[-6.5,107])\n",
    "marks(peta,[-6.5,107.1])\n",
    "marks(peta,[-6.5,106.9])\n",
    "marks(peta,[-6.3,107])\n",
    "peta"
   ]
  },
  {
   "cell_type": "code",
   "execution_count": null,
   "metadata": {},
   "outputs": [],
   "source": [
    "folium.Marker([-7.368609,108.11317],\n",
    "              popup='<strong>Stasiun AWS Tasikmalaya</strong>',\n",
    "             tooltip = 'Stasiun AWS Tasikmalaya').add_to(peta)"
   ]
  },
  {
   "cell_type": "code",
   "execution_count": null,
   "metadata": {},
   "outputs": [],
   "source": [
    "marks(peta,[-7.3,108])\n",
    "marks(peta,[-7.4,108])\n",
    "marks(peta,[-7.3,108.1])\n",
    "marks(peta,[-7.4,108.1])\n",
    "marks(peta,[-7.5,108.1])\n",
    "marks(peta,[-7.3,108.2])\n",
    "marks(peta,[-7.4,108.2])\n",
    "peta"
   ]
  },
  {
   "cell_type": "markdown",
   "metadata": {},
   "source": [
    "### For presentation purposes, the data analysis section displays an overview of the data"
   ]
  },
  {
   "cell_type": "code",
   "execution_count": null,
   "metadata": {},
   "outputs": [],
   "source": [
    "peta = folium.Map(location=[-7.25,107.0],zoom_start=8.4,tiles = 'Stamen Terrain')\n",
    "peta"
   ]
  },
  {
   "cell_type": "code",
   "execution_count": null,
   "metadata": {},
   "outputs": [],
   "source": [
    "def marks(map,coord):\n",
    "    folium.CircleMarker(coord,radius=0.3,color = 'red').add_to(map)"
   ]
  },
  {
   "cell_type": "code",
   "execution_count": null,
   "metadata": {},
   "outputs": [],
   "source": [
    "res = 0.1\n",
    "longitude = 105.0\n",
    "for i in range(40):\n",
    "    latitude = -9.0\n",
    "    for j in range(35):\n",
    "        marks(peta,[latitude,longitude])\n",
    "        latitude = latitude+res\n",
    "    longitude = longitude+res\n",
    "    \n",
    "peta"
   ]
  },
  {
   "cell_type": "markdown",
   "metadata": {},
   "source": [
    "Importing daily maximum data from Excel to Python DataFrame"
   ]
  },
  {
   "cell_type": "code",
   "execution_count": null,
   "metadata": {},
   "outputs": [],
   "source": [
    "df = pd.read_csv('data\\STA2042.csv',header = None)\n",
    "df.columns = ['tgl1','tgl2','jam','windspeed']"
   ]
  },
  {
   "cell_type": "markdown",
   "metadata": {},
   "source": [
    "Discarding some unmeasured data on certain days, and discard redundant columns ; and it can be seen from the output that there are 1325 rows of data remaining and 2 columns"
   ]
  },
  {
   "cell_type": "code",
   "execution_count": null,
   "metadata": {},
   "outputs": [],
   "source": [
    "df = df.dropna()\n",
    "df = df.drop(columns = ['jam','tgl2'])\n",
    "df.shape"
   ]
  },
  {
   "cell_type": "code",
   "execution_count": null,
   "metadata": {},
   "outputs": [],
   "source": [
    "df.iloc[:,0] = pd.to_datetime(df['tgl1'],infer_datetime_format = True)\n",
    "df = df.set_index('tgl1')"
   ]
  },
  {
   "cell_type": "markdown",
   "metadata": {},
   "source": [
    "Below, the process of evaluating the maximum data per 1 month (1 MS = 1 Months) available from the DataFrame object"
   ]
  },
  {
   "cell_type": "code",
   "execution_count": null,
   "metadata": {},
   "outputs": [],
   "source": [
    "dfmaxperM = df.windspeed.resample(\"MS\").agg(['max','count'])\n",
    "dfinvalid = dfmaxperM['count'] < 15\n",
    "dfmaxperM = dfmaxperM['max']\n",
    "dfmaxperM[dfinvalid] = np.nan\n",
    "dfmaxperM = dfmaxperM.dropna()\n",
    "dfmaxperM_sort = dfmaxperM.sort_values(ascending = True)\n",
    "dfmaxperM_sort.head(15)"
   ]
  },
  {
   "cell_type": "markdown",
   "metadata": {},
   "source": [
    "The following is the Anderson-Darling analysis process whose tools have been provided by Python with the function **scipy.stats.anderson**\n",
    "\n",
    "**If the AD value > Critical Value, it is concluded that the distribution type is not suitable for Gumbel distribution**, the significance value used is constant at 5%"
   ]
  },
  {
   "cell_type": "code",
   "execution_count": null,
   "metadata": {},
   "outputs": [],
   "source": [
    "import scipy.stats\n",
    "def testAD(df):\n",
    "    dftinjau = df.astype(np.float64)\n",
    "    dftinjau = dftinjau.to_list()\n",
    "    a,b,c = sp.stats.anderson(dftinjau,dist='gumbel_r')\n",
    "    stat_value = a\n",
    "    crit_value = b[2]\n",
    "    sig_value = c[2]\n",
    "    return stat_value,crit_value,sig_value\n",
    "\n",
    "a,b,c = testAD(dfmaxperM_sort)\n",
    "rekap.iloc[0,:] = [a,b]\n",
    "rekap"
   ]
  },
  {
   "cell_type": "markdown",
   "metadata": {},
   "source": [
    "### Plotting is performed to see the visualization of the distribution of data, the maximum value is taken per 1 month\n",
    "\n",
    "### This plotting mechanism is used as a function to make it easier to call for further experiments"
   ]
  },
  {
   "cell_type": "code",
   "execution_count": null,
   "metadata": {},
   "outputs": [],
   "source": [
    "#Test Plotting\n",
    "import matplotlib.pyplot as plt\n",
    "def letsplot(dfs,frequency):\n",
    "    #Defining Properties\n",
    "    calib = pd.DataFrame(data = np.zeros(len(dfs)),columns = ['rank'])\n",
    "    calib['rank'] = np.arange(1,len(calib)+1)\n",
    "    calib['gringorten'] = (calib['rank']-0.44)/(len(calib)+0.12)\n",
    "    calib['y'] = -np.log(-np.log(calib['gringorten']))\n",
    "    calib.head()\n",
    "    calib['y'].dtypes\n",
    "\n",
    "    #Plotting\n",
    "    plt.figure(figsize=(15,5))\n",
    "    plt.scatter(calib['y'],dfs.iloc[:,0],color = 'red',label = 'Observasi')\n",
    "    m,b = np.polyfit(calib['y'],dfs.iloc[:,0],1)\n",
    "    plt.title('Kecepatan Angin Desain, dengan frekuensi data maksimum per ' + str(frequency))\n",
    "    plt.plot(calib['y'],(m*calib['y']+b),label = 'Estimasi')\n",
    "    plt.xlabel('Reduced Variate')\n",
    "    plt.ylabel('Design Wind Speed (m/s)')\n",
    "    plt.legend(fontsize='x-large')\n",
    "    plt.show()\n",
    "\n",
    "letsplot(dfmaxperM_sort.to_frame().astype(np.float64),'1 bulan')"
   ]
  },
  {
   "cell_type": "markdown",
   "metadata": {},
   "source": [
    "**Seen in the graph above, the distribution seems \"deviated\" from the regression line which is the *best fit* of the Gumbel distribution**, if the maximum data taken is 1-month\n",
    "\n",
    "Next, try to take a maximum data sample of 2 months (2 MS = 2 Months)"
   ]
  },
  {
   "cell_type": "code",
   "execution_count": null,
   "metadata": {},
   "outputs": [],
   "source": [
    "dfmaxperM = df.windspeed.resample(\"2MS\").agg(['max','count'])\n",
    "dfinvalid = dfmaxperM['count'] < 15\n",
    "dfmaxperM = dfmaxperM['max']\n",
    "dfmaxperM[dfinvalid] = np.nan\n",
    "dfmaxperM = dfmaxperM.dropna()\n",
    "dfmaxperM_sort = dfmaxperM.sort_values(ascending = True)"
   ]
  },
  {
   "cell_type": "code",
   "execution_count": null,
   "metadata": {},
   "outputs": [],
   "source": [
    "a,b,c = testAD(dfmaxperM_sort)\n",
    "rekap.iloc[1,:] = [a,b]\n",
    "rekap"
   ]
  },
  {
   "cell_type": "code",
   "execution_count": null,
   "metadata": {},
   "outputs": [],
   "source": [
    "letsplot(dfmaxperM_sort.to_frame().astype(np.float64),'2 bulan')"
   ]
  },
  {
   "cell_type": "markdown",
   "metadata": {},
   "source": [
    "It also looks very deviated from the *best fit* regression of the Gumbel distribution, the AD value is also > critical value\n",
    "\n",
    "Then try if the maximum data is per 3 months"
   ]
  },
  {
   "cell_type": "code",
   "execution_count": null,
   "metadata": {},
   "outputs": [],
   "source": [
    "dfmaxperM = df.windspeed.resample(\"3MS\").agg(['max','count'])\n",
    "dfinvalid = dfmaxperM['count'] < 15\n",
    "dfmaxperM = dfmaxperM['max']\n",
    "dfmaxperM[dfinvalid] = np.nan\n",
    "dfmaxperM = dfmaxperM.dropna()\n",
    "dfmaxperM_sort = dfmaxperM.sort_values(ascending = True)\n",
    "\n",
    "a,b,c = testAD(dfmaxperM_sort)\n",
    "rekap.iloc[2,:] = [a,b]\n",
    "rekap"
   ]
  },
  {
   "cell_type": "code",
   "execution_count": null,
   "metadata": {},
   "outputs": [],
   "source": [
    "letsplot(dfmaxperM_sort.to_frame().astype(np.float64),'3 bulan')"
   ]
  },
  {
   "cell_type": "markdown",
   "metadata": {},
   "source": [
    "For this tri-monthly data, the AD value is declared **accepted** for the Gumbel Distribution, although the value is slightly different from the critical value."
   ]
  },
  {
   "cell_type": "code",
   "execution_count": null,
   "metadata": {},
   "outputs": [],
   "source": [
    "dfmaxperM = df.windspeed.resample(\"4MS\").agg(['max','count'])\n",
    "dfinvalid = dfmaxperM['count'] < 15\n",
    "dfmaxperM = dfmaxperM['max']\n",
    "dfmaxperM[dfinvalid] = np.nan\n",
    "dfmaxperM = dfmaxperM.dropna()\n",
    "dfmaxperM_sort = dfmaxperM.sort_values(ascending = True)\n",
    "\n",
    "a,b,c = testAD(dfmaxperM_sort)\n",
    "rekap.iloc[3,:] = [a,b]\n",
    "rekap"
   ]
  },
  {
   "cell_type": "code",
   "execution_count": null,
   "metadata": {},
   "outputs": [],
   "source": [
    "letsplot(dfmaxperM_sort.to_frame().astype(np.float64),'4 bulan')"
   ]
  },
  {
   "cell_type": "markdown",
   "metadata": {},
   "source": [
    "For this 4-monthly data, it was again declared **not acceptable** categorized as Gumbel Distribution"
   ]
  },
  {
   "cell_type": "code",
   "execution_count": null,
   "metadata": {},
   "outputs": [],
   "source": [
    "dfmaxperM = df.windspeed.resample(\"6MS\").agg(['max','count'])\n",
    "dfinvalid = dfmaxperM['count'] < 15\n",
    "dfmaxperM = dfmaxperM['max']\n",
    "dfmaxperM[dfinvalid] = np.nan\n",
    "dfmaxperM = dfmaxperM.dropna()\n",
    "dfmaxperM_sort = dfmaxperM.sort_values(ascending = True)\n",
    "\n",
    "a,b,c = testAD(dfmaxperM_sort)\n",
    "rekap.iloc[4,:] = [a,b]\n",
    "rekap"
   ]
  },
  {
   "cell_type": "code",
   "execution_count": null,
   "metadata": {},
   "outputs": [],
   "source": [
    "letsplot(dfmaxperM_sort.to_frame().astype(np.float64),'6 bulan')"
   ]
  },
  {
   "cell_type": "markdown",
   "metadata": {},
   "source": [
    "For 6-month data, it is also concluded **not accepted** in the Gumbel Distribution category"
   ]
  },
  {
   "cell_type": "code",
   "execution_count": null,
   "metadata": {},
   "outputs": [],
   "source": [
    "x = range(5)\n",
    "y = np.array(rekap.iloc[:,0])\n",
    "z = np.array(rekap.iloc[:,1])\n",
    "labels = ['1 bulan','2 bulan','3 bulan','4 bulan', '6 bulan']\n",
    "plt.figure(figsize=(15,5))\n",
    "plt.xticks(x, labels)\n",
    "plt.plot(x, y)\n",
    "plt.plot(x,z)\n",
    "plt.legend(['AD Value','Critical Limit Value'])\n",
    "plt.title('Rekap Hasil Test AD untuk interval data bervariasi di AWS Mekarsari',\n",
    "          fontsize = 15)\n",
    "plt.fill_between(x,0, z,color = 'green',alpha = 0.2)\n",
    "plt.fill_between(x, z, 3,color='red', alpha = 0.2)\n",
    "plt.show()"
   ]
  },
  {
   "cell_type": "markdown",
   "metadata": {},
   "source": [
    "## Conclusion\n",
    "\n",
    "### *Overall*, data at AWS Mekarsari Station only deserves to be declared Gumbel Distribution if the maximum data is taken every 3 months\n",
    "\n",
    "### Next, check the daily data for AWS Tasikmalaya Station, which is located at the following coordinates:"
   ]
  },
  {
   "cell_type": "code",
   "execution_count": null,
   "metadata": {},
   "outputs": [],
   "source": [
    "peta = folium.Map(location=[-7.368609,108.11317],zoom_start=10)\n",
    "folium.Marker([-7.368609,108.11317],\n",
    "              popup='<strong>Stasiun AWS Tasikmalaya</strong>',\n",
    "             tooltip = 'Stasiun AWS Tasikmalaya').add_to(peta)\n",
    "#peta"
   ]
  },
  {
   "cell_type": "code",
   "execution_count": null,
   "metadata": {},
   "outputs": [],
   "source": [
    "marks(peta,[-7.3,108])\n",
    "marks(peta,[-7.4,108])\n",
    "marks(peta,[-7.3,108.1])\n",
    "marks(peta,[-7.4,108.1])\n",
    "marks(peta,[-7.5,108.1])\n",
    "marks(peta,[-7.3,108.2])\n",
    "marks(peta,[-7.4,108.2])\n",
    "#peta"
   ]
  },
  {
   "cell_type": "code",
   "execution_count": null,
   "metadata": {},
   "outputs": [],
   "source": [
    "rekap = pd.DataFrame(data = np.zeros((5,2)),columns = ['AD value','critical value'],\n",
    "                    index = ['1 bulan','2 bulan','3 bulan', '4 bulan','6 bulan'])\n",
    "rekap"
   ]
  },
  {
   "cell_type": "code",
   "execution_count": null,
   "metadata": {},
   "outputs": [],
   "source": [
    "def marks(map,coord):\n",
    "    folium.Marker(coord,icon = folium.Icon(icon ='flag')).add_to(map)\n",
    "\n",
    "marks(peta,[-6.4,107])\n",
    "marks(peta,[-6.4,106.9])\n",
    "marks(peta,[-6.4,107.1])\n",
    "marks(peta,[-6.5,107])\n",
    "marks(peta,[-6.5,107.1])\n",
    "marks(peta,[-6.5,106.9])\n",
    "marks(peta,[-6.3,107])\n",
    "peta"
   ]
  },
  {
   "cell_type": "code",
   "execution_count": null,
   "metadata": {},
   "outputs": [],
   "source": [
    "df = pd.read_csv('data\\STA2086.csv',header = None)\n",
    "df.columns = ['tgl1','tgl2','jam','windspeed']\n",
    "df.head()\n",
    "df.shape"
   ]
  },
  {
   "cell_type": "code",
   "execution_count": null,
   "metadata": {},
   "outputs": [],
   "source": [
    "df = df.dropna()\n",
    "df = df.drop(columns = ['jam','tgl2'])\n",
    "df.shape\n",
    "\n",
    "df.iloc[:,0] = pd.to_datetime(df['tgl1'],infer_datetime_format = True)\n",
    "df = df.set_index('tgl1')\n",
    "\n",
    "dfmaxperM = df.windspeed.resample(\"MS\").agg(['max','count'])\n",
    "dfinvalid = dfmaxperM['count'] < 15\n",
    "dfmaxperM = dfmaxperM['max']\n",
    "dfmaxperM[dfinvalid] = np.nan\n",
    "dfmaxperM = dfmaxperM.dropna()\n",
    "dfmaxperM_sort = dfmaxperM.sort_values(ascending = True)"
   ]
  },
  {
   "cell_type": "markdown",
   "metadata": {},
   "source": [
    "**The same steps are carried out for the AWS Tasikmalaya station; checking if the data is broken down into maximum 1,2,3,4, and 6 months**"
   ]
  },
  {
   "cell_type": "code",
   "execution_count": null,
   "metadata": {},
   "outputs": [],
   "source": [
    "a,b,c = testAD(dfmaxperM_sort)\n",
    "rekap.iloc[0,:] = [a,b]\n",
    "rekap"
   ]
  },
  {
   "cell_type": "code",
   "execution_count": null,
   "metadata": {},
   "outputs": [],
   "source": [
    "letsplot(dfmaxperM_sort.to_frame().astype(np.float64),'1 bulan')"
   ]
  },
  {
   "cell_type": "code",
   "execution_count": null,
   "metadata": {},
   "outputs": [],
   "source": [
    "dfmaxperM = df.windspeed.resample(\"2MS\").agg(['max','count'])\n",
    "dfinvalid = dfmaxperM['count'] < 15\n",
    "dfmaxperM = dfmaxperM['max']\n",
    "dfmaxperM[dfinvalid] = np.nan\n",
    "dfmaxperM = dfmaxperM.dropna()\n",
    "dfmaxperM_sort = dfmaxperM.sort_values(ascending = True)"
   ]
  },
  {
   "cell_type": "code",
   "execution_count": null,
   "metadata": {},
   "outputs": [],
   "source": [
    "a,b,c = testAD(dfmaxperM_sort)\n",
    "rekap.iloc[1,:] = [a,b]\n",
    "rekap"
   ]
  },
  {
   "cell_type": "code",
   "execution_count": null,
   "metadata": {},
   "outputs": [],
   "source": [
    "letsplot(dfmaxperM_sort.to_frame().astype(np.float64),'2 bulan')"
   ]
  },
  {
   "cell_type": "code",
   "execution_count": null,
   "metadata": {},
   "outputs": [],
   "source": [
    "dfmaxperM = df.windspeed.resample(\"3MS\").agg(['max','count'])\n",
    "dfinvalid = dfmaxperM['count'] < 15\n",
    "dfmaxperM = dfmaxperM['max']\n",
    "dfmaxperM[dfinvalid] = np.nan\n",
    "dfmaxperM = dfmaxperM.dropna()\n",
    "dfmaxperM_sort = dfmaxperM.sort_values(ascending = True)"
   ]
  },
  {
   "cell_type": "code",
   "execution_count": null,
   "metadata": {},
   "outputs": [],
   "source": [
    "a,b,c = testAD(dfmaxperM_sort)\n",
    "rekap.iloc[2,:] = [a,b]\n",
    "rekap"
   ]
  },
  {
   "cell_type": "code",
   "execution_count": null,
   "metadata": {},
   "outputs": [],
   "source": [
    "letsplot(dfmaxperM_sort.to_frame().astype(np.float64),'3 bulan')"
   ]
  },
  {
   "cell_type": "code",
   "execution_count": null,
   "metadata": {},
   "outputs": [],
   "source": [
    "dfmaxperM = df.windspeed.resample(\"4MS\").agg(['max','count'])\n",
    "dfinvalid = dfmaxperM['count'] < 15\n",
    "dfmaxperM = dfmaxperM['max']\n",
    "dfmaxperM[dfinvalid] = np.nan\n",
    "dfmaxperM = dfmaxperM.dropna()\n",
    "dfmaxperM_sort = dfmaxperM.sort_values(ascending = True)"
   ]
  },
  {
   "cell_type": "code",
   "execution_count": null,
   "metadata": {},
   "outputs": [],
   "source": [
    "a,b,c = testAD(dfmaxperM_sort)\n",
    "rekap.iloc[3,:] = [a,b]\n",
    "rekap"
   ]
  },
  {
   "cell_type": "code",
   "execution_count": null,
   "metadata": {},
   "outputs": [],
   "source": [
    "letsplot(dfmaxperM_sort.to_frame().astype(np.float64),'4 bulan')"
   ]
  },
  {
   "cell_type": "code",
   "execution_count": null,
   "metadata": {},
   "outputs": [],
   "source": [
    "dfmaxperM = df.windspeed.resample(\"6MS\").agg(['max','count'])\n",
    "dfinvalid = dfmaxperM['count'] < 15\n",
    "dfmaxperM = dfmaxperM['max']\n",
    "dfmaxperM[dfinvalid] = np.nan\n",
    "dfmaxperM = dfmaxperM.dropna()\n",
    "dfmaxperM_sort = dfmaxperM.sort_values(ascending = True)"
   ]
  },
  {
   "cell_type": "code",
   "execution_count": null,
   "metadata": {},
   "outputs": [],
   "source": [
    "a,b,c = testAD(dfmaxperM_sort)\n",
    "rekap.iloc[4,:] = [a,b]\n",
    "rekap"
   ]
  },
  {
   "cell_type": "code",
   "execution_count": null,
   "metadata": {},
   "outputs": [],
   "source": [
    "letsplot(dfmaxperM_sort.to_frame().astype(np.float64),'6 bulan')"
   ]
  },
  {
   "cell_type": "code",
   "execution_count": null,
   "metadata": {},
   "outputs": [],
   "source": [
    "x = range(5)\n",
    "y = np.array(rekap.iloc[:,0])\n",
    "z = np.array(rekap.iloc[:,1])\n",
    "labels = ['1 bulan','2 bulan','3 bulan','4 bulan', '6 bulan']\n",
    "plt.figure(figsize=(15,5))\n",
    "plt.xticks(x, labels)\n",
    "plt.plot(x, y)\n",
    "plt.plot(x,z)\n",
    "plt.legend(['AD Value','Critical Limit Value'])\n",
    "plt.title('Rekap Hasil Test AD untuk interval data bervariasi, stasiun Tasikmalaya',fontsize = 15)\n",
    "plt.fill_between(x,0, z,color = 'green',alpha = 0.2)\n",
    "plt.fill_between(x, z, 0.8, color='red', alpha = 0.2)\n",
    "plt.show()"
   ]
  },
  {
   "cell_type": "markdown",
   "metadata": {},
   "source": [
    "## It can be seen, for the AWS Tasikmalaya station, if the data is divided into a maximum of 1,2,3,4, and 6 months, all of them are categorized as Gumbel Distribution"
   ]
  },
  {
   "cell_type": "markdown",
   "metadata": {},
   "source": [
    "# Conclusion\n",
    "\n",
    "## For AWS Mekarsari station :\n",
    "### If the wind data is taken a maximum of 1 month:\n",
    "$$ AD_{value} = 2,966, AD_{critical value} = 0.737 $$\n",
    "Conclusion: Maximum data 1 month **not acceptable** to be considered as Gumbel distribution\n",
    "\n",
    "### If the wind data is taken a maximum of every 2 months:\n",
    "$$ AD_{value} = 1.851, AD_{critical value} = 0.729 $$\n",
    "Conclusion: Maximum data 2 months **not acceptable** to be considered as Gumbel distribution\n",
    "\n",
    "### If the wind data is taken a maximum of every 3 months:\n",
    "$$ AD_{value} = 0.716, AD_{critical value} = 0.724 $$\n",
    "Conclusion: Maximum data 3 months **acceptable** to be considered as Gumbel distribution\n",
    "\n",
    "### If the wind data is taken a maximum of every 4 months:\n",
    "$$ AD_{value} = 0.879, AD_{critical value} = 0.717 $$\n",
    "Conclusion: Maximum data 4 months **not acceptable** to be considered as Gumbel distribution\n",
    "\n",
    "### If the wind data is taken a maximum of 6 months:\n",
    "$$ AD_{value} = 1.091, AD_{critical value} = 0.71 $$\n",
    "Conclusion: Maximum 6 months data **not acceptable** to be considered as Gumbel distribution\n",
    "\n",
    "\n",
    "## For Tasikmalaya station\n",
    "### If the wind data is taken a maximum of 1 month:\n",
    "$$ AD_{value} = 0.395, AD_{critical value} = 0.737 $$\n",
    "Conclusion: Maximum data 1 month **acceptable** to be considered as Gumbel distribution\n",
    "\n",
    "### If the wind data is taken a maximum of every 2 months:\n",
    "$$ AD_{value} = 0.276, AD_{critical value} = 0.729 $$\n",
    "Conclusion: Maximum data 2 months **acceptable** to be considered as Gumbel distribution\n",
    "\n",
    "### If the wind data is taken a maximum of every 3 months:\n",
    "$$ AD_{value} = 0.417, AD_{critical value} = 0.724 $$\n",
    "Conclusion: Maximum data 3 months **acceptable** to be considered as Gumbel distribution\n",
    "\n",
    "### If the wind data is taken a maximum of every 4 months:\n",
    "$$ AD_{value} = 0.498, AD_{critical value} = 0.717 $$\n",
    "Conclusion: Maximum data 4 months **acceptable** to be considered as Gumbel distribution\n",
    "\n",
    "### If the wind data is taken a maximum of 6 months:\n",
    "$$ AD_{value} = 0.685, AD_{critical value} = 0.71 $$\n",
    "Conclusion: Maximum data 6 months **acceptable** to be considered as Gumbel distribution"
   ]
  }
 ],
 "metadata": {
  "kernelspec": {
   "display_name": "Python 3 (ipykernel)",
   "language": "python",
   "name": "python3"
  },
  "language_info": {
   "codemirror_mode": {
    "name": "ipython",
    "version": 3
   },
   "file_extension": ".py",
   "mimetype": "text/x-python",
   "name": "python",
   "nbconvert_exporter": "python",
   "pygments_lexer": "ipython3",
   "version": "3.9.7"
  }
 },
 "nbformat": 4,
 "nbformat_minor": 4
}
